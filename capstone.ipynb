{
 "cells": [
  {
   "cell_type": "markdown",
   "id": "59b43217",
   "metadata": {},
   "source": [
    "# *CAPSTONE PROJECT BENGKOD DS01*\n",
    "Nama : Mehta Pradnyatama\n",
    "<br>\n",
    "NIM : A11.2022.14183"
   ]
  },
  {
   "cell_type": "code",
   "execution_count": 1,
   "id": "4636ed31",
   "metadata": {},
   "outputs": [],
   "source": [
    "# Import Library\n",
    "import pandas as pd\n",
    "import numpy as np\n",
    "import matplotlib.pyplot as plt\n",
    "import seaborn as sns\n",
    "from sklearn.preprocessing import LabelEncoder, StandardScaler\n",
    "from sklearn.model_selection import train_test_split, GridSearchCV, RandomizedSearchCV\n",
    "from sklearn.metrics import classification_report, confusion_matrix, accuracy_score\n",
    "from sklearn.tree import DecisionTreeClassifier\n",
    "from sklearn.ensemble import RandomForestClassifier\n",
    "from sklearn.neighbors import KNeighborsClassifier\n",
    "from sklearn.linear_model import LogisticRegression\n",
    "from sklearn.svm import SVC\n",
    "from imblearn.over_sampling import SMOTE\n",
    "import time\n",
    "import warnings\n",
    "import pickle\n",
    "warnings.filterwarnings('ignore')"
   ]
  },
  {
   "cell_type": "code",
   "execution_count": 2,
   "id": "8405a083",
   "metadata": {},
   "outputs": [
    {
     "name": "stdout",
     "output_type": "stream",
     "text": [
      "Ukuran Dataset: (2111, 17)\n",
      "\n",
      "5 data pertama:\n",
      "  Age  Gender Height Weight        CALC FAVC FCVC NCP  SCC SMOKE CH2O  \\\n",
      "0  21  Female   1.62     64          no   no    2   3   no    no    2   \n",
      "1  21  Female   1.52     56   Sometimes   no    3   3  yes   yes    3   \n",
      "2  23    Male    1.8     77  Frequently   no    2   3   no    no    2   \n",
      "3  27    Male    1.8     87  Frequently   no    3   3   no    no    2   \n",
      "4  22    Male   1.78   89.8   Sometimes   no    2   1   no    no    2   \n",
      "\n",
      "  family_history_with_overweight FAF TUE       CAEC                 MTRANS  \\\n",
      "0                            yes   0   1  Sometimes  Public_Transportation   \n",
      "1                            yes   3   0  Sometimes  Public_Transportation   \n",
      "2                            yes   2   1  Sometimes  Public_Transportation   \n",
      "3                             no   2   0  Sometimes                Walking   \n",
      "4                             no   0   0  Sometimes  Public_Transportation   \n",
      "\n",
      "            NObeyesdad  \n",
      "0        Normal_Weight  \n",
      "1        Normal_Weight  \n",
      "2        Normal_Weight  \n",
      "3   Overweight_Level_I  \n",
      "4  Overweight_Level_II  \n"
     ]
    }
   ],
   "source": [
    "# 1. LOAD DATASET\n",
    "df = pd.read_csv('dataset/ObesityDataSet.csv')\n",
    "\n",
    "# Menampilkan informasi dasar dataset\n",
    "print(\"Ukuran Dataset:\", df.shape)\n",
    "print(\"\\n5 data pertama:\")\n",
    "print(df.head())"
   ]
  }
 ],
 "metadata": {
  "kernelspec": {
   "display_name": "py310",
   "language": "python",
   "name": "python3"
  },
  "language_info": {
   "codemirror_mode": {
    "name": "ipython",
    "version": 3
   },
   "file_extension": ".py",
   "mimetype": "text/x-python",
   "name": "python",
   "nbconvert_exporter": "python",
   "pygments_lexer": "ipython3",
   "version": "3.10.16"
  }
 },
 "nbformat": 4,
 "nbformat_minor": 5
}
